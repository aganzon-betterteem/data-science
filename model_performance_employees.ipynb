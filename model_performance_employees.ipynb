{
 "cells": [
  {
   "cell_type": "code",
   "execution_count": 1,
   "id": "e94cd957",
   "metadata": {},
   "outputs": [],
   "source": [
    "import pandas as pd\n",
    "from sklearn import metrics\n",
    "from sklearn.metrics import confusion_matrix, classification_report, accuracy_score"
   ]
  },
  {
   "cell_type": "code",
   "execution_count": 2,
   "id": "aa08cbdb",
   "metadata": {},
   "outputs": [],
   "source": [
    "def get_model_performance(x_test, y_test, clf):\n",
    "    \"\"\"\n",
    "    Description: generate the performance metric scores of the model\n",
    "    ---\n",
    "    Parameters: \n",
    "    x_test: DataFrame\n",
    "    y_test: DataFrame\n",
    "    clf: model object\n",
    "    ---\n",
    "    returns:\n",
    "    y_pred: DataFrame\n",
    "    clf_accuracy: str\n",
    "    clf_confusion_matrix: list\n",
    "    df_classification_report: DataFrame\n",
    "    \"\"\"\n",
    "    \n",
    "    # get prediction: y_pred\n",
    "    y_pred = clf.predict(x_test)\n",
    "    # get accuracy\n",
    "    clf_accuracy = metrics.accuracy_score(y_test,y_pred)\n",
    "    # get confusion matrix\n",
    "    clf_confusion_matrix = metrics.confusion_matrix(y_test,y_pred)\n",
    "    # get classification report\n",
    "    df_classification_report = pd.DataFrame(metrics.classification_report(y_test, y_pred, output_dict=True)).transpose()\n",
    "    \n",
    "    return y_pred, clf_accuracy, clf_confusion_matrix, df_classification_report"
   ]
  },
  {
   "cell_type": "code",
   "execution_count": 3,
   "id": "6b0199ff",
   "metadata": {},
   "outputs": [],
   "source": [
    "def get_model_feature_importance(x_train, clf):\n",
    "    \"\"\"\n",
    "    Description: generate the feature importance based on model training\n",
    "    ---\n",
    "    Parameters: \n",
    "    clf: classifier model object\n",
    "    x_train: DataFrame\n",
    "    ---\n",
    "    returns df_feature_importance: DataFrame\n",
    "    \"\"\"\n",
    "    f_importance = clf.feature_importances_\n",
    "\n",
    "    # put into a DataFrame along with feature names for easier understanding.\n",
    "    f_list = x_train.columns\n",
    "    df_feature_importance = pd.DataFrame(f_importance, index=f_list, columns=[\"Importance\"])\n",
    "    return df_feature_importance.sort_values(by='Importance',ascending=False).reset_index().rename(columns={'index':'Factors'})"
   ]
  }
 ],
 "metadata": {
  "kernelspec": {
   "display_name": "Python 3 (ipykernel)",
   "language": "python",
   "name": "python3"
  },
  "language_info": {
   "codemirror_mode": {
    "name": "ipython",
    "version": 3
   },
   "file_extension": ".py",
   "mimetype": "text/x-python",
   "name": "python",
   "nbconvert_exporter": "python",
   "pygments_lexer": "ipython3",
   "version": "3.9.13"
  }
 },
 "nbformat": 4,
 "nbformat_minor": 5
}
