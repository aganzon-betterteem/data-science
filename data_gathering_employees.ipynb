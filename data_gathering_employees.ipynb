{
 "cells": [
  {
   "cell_type": "code",
   "execution_count": 1,
   "id": "47d7aa25",
   "metadata": {},
   "outputs": [],
   "source": [
    "import pandas as pd"
   ]
  },
  {
   "cell_type": "code",
   "execution_count": 2,
   "id": "bcc5e32e",
   "metadata": {},
   "outputs": [],
   "source": [
    "def data_gathering_sprout_employees_sample(file_name='Integra Employee Sample Data.xlsx'):\n",
    "    \"\"\"\n",
    "    Description: Data gathering of sample employee data from Sprout\n",
    "    ---\n",
    "    Parameters:\n",
    "    file_name: Str\n",
    "    ---\n",
    "    returns df: DataFrame\n",
    "    \"\"\"\n",
    "    df = pd.read_excel(file_name)\n",
    "    return df"
   ]
  }
 ],
 "metadata": {
  "kernelspec": {
   "display_name": "Python 3 (ipykernel)",
   "language": "python",
   "name": "python3"
  },
  "language_info": {
   "codemirror_mode": {
    "name": "ipython",
    "version": 3
   },
   "file_extension": ".py",
   "mimetype": "text/x-python",
   "name": "python",
   "nbconvert_exporter": "python",
   "pygments_lexer": "ipython3",
   "version": "3.9.13"
  }
 },
 "nbformat": 4,
 "nbformat_minor": 5
}
